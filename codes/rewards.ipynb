{
 "cells": [
  {
   "cell_type": "markdown",
   "metadata": {},
   "source": [
    "# Mentorship Rewards Optimization"
   ]
  },
  {
   "cell_type": "markdown",
   "metadata": {},
   "source": [
    "**Context**\n",
    "\n",
    "The Rewards Program team is preparing for a major evaluation of how effectively the rewards are driving user engagement and satisfaction. They need insights to help optimize reward offerings, identify key segments, and understand the overall impact of the reward types on user behavior. Accurate data analysis is crucial for making data driven decisions on reward offerings and tailoring them to different user segments."
   ]
  },
  {
   "cell_type": "markdown",
   "metadata": {},
   "source": [
    "**Task 1. Data Cleaning**\n",
    "\n",
    "**Context**:\n",
    "\n",
    "As part of our reward efforts, it’s crucial to maintain accurate and clean data. Recently, we discovered challenges in our data, which impacted our ability to allocate points to graduates and learners.\n",
    "\n",
    "Assignment:\n",
    "You are provided with a sample dataset in the “Mentorship_Sessions” sheet that includes data related to mentorship sessions. This dataset has several duplicates and inconsistencies. Your task is to:\n",
    "\n",
    "- Identify and address any missing, incorrect, or inconsistent data within the columns. Ensure that all data is cleaned and standardised for accurate analysis and reporting.\n",
    "- Identify and remove any duplicate records.\n",
    "- Explain your approach to data cleaning, including the tools you used.\n",
    "- Provide a summary of the cleaned data, highlighting the number of duplicates removed and any other anomalies found.\n",
    "\n",
    "Deliverables:\n",
    "- A clean version of the dataset in Excel.\n",
    "- A brief report (300-500 words) detailing your process, tools used, and findings.\n"
   ]
  },
  {
   "cell_type": "code",
   "execution_count": 1,
   "metadata": {},
   "outputs": [],
   "source": [
    "# Import the required libraries\n",
    "import pandas as pd\n",
    "import numpy as np"
   ]
  },
  {
   "cell_type": "code",
   "execution_count": 55,
   "metadata": {},
   "outputs": [
    {
     "name": "stdout",
     "output_type": "stream",
     "text": [
      "     Unnamed: 0  Mentor_ID     Mentor_Name    Mentee_Name  Session_Number  \\\n",
      "0        2001.0     1003.0     Sarah Clark      Bob Brown             1.0   \n",
      "1        2002.0     1003.0     Emily Davis    Carol White             2.0   \n",
      "2        2003.0     1005.0    James Wilson     Jane Smith             2.0   \n",
      "3           4.0     1005.0  David Thompson            NaN             2.0   \n",
      "4        2001.0     1004.0     Emily Davis      Bob Brown             1.0   \n",
      "..          ...        ...             ...            ...             ...   \n",
      "104      2002.0     1003.0     Michael Lee    Carol White             2.0   \n",
      "105        54.0     1003.0     Michael Lee  Alice Johnson             2.0   \n",
      "106      2003.0     1005.0     Michael Lee     Jane Smith             1.0   \n",
      "107        46.0     1005.0     Michael Lee    Carol White             2.0   \n",
      "108        45.0     1004.0     Michael Lee     Jane Smith             1.0   \n",
      "\n",
      "     Session_Duration_Min Job_Info_Completed Session_Date  Points_Awarded  \n",
      "0                    40.0                Yes   2023-01-01             NaN  \n",
      "1                    30.0                Yes   2023-01-08             NaN  \n",
      "2                    40.0                Yes   2023-01-15             NaN  \n",
      "3                    50.0                Yes   2023-01-22             NaN  \n",
      "4                    30.0                 No   2023-01-29             NaN  \n",
      "..                    ...                ...          ...             ...  \n",
      "104                  20.0                 No   2024-08-04             NaN  \n",
      "105                  30.0                Yes   2024-01-07             NaN  \n",
      "106                  50.0                Yes   2024-05-05             NaN  \n",
      "107                  40.0                Yes   2023-11-12             NaN  \n",
      "108                  30.0                 No   2023-11-05             NaN  \n",
      "\n",
      "[109 rows x 9 columns]\n"
     ]
    },
    {
     "data": {
      "text/plain": [
       "Unnamed: 0              float64\n",
       "Mentor_ID               float64\n",
       "Mentor_Name              object\n",
       "Mentee_Name              object\n",
       "Session_Number          float64\n",
       "Session_Duration_Min    float64\n",
       "Job_Info_Completed       object\n",
       "Session_Date             object\n",
       "Points_Awarded          float64\n",
       "dtype: object"
      ]
     },
     "execution_count": 55,
     "metadata": {},
     "output_type": "execute_result"
    }
   ],
   "source": [
    "# Load the data set\n",
    "path = 'C:\\\\Users\\\\ADMIN\\\\MentorshipRewards_Analysis\\\\MentorshipRewards_analysis\\\\assets\\\\Mentorship_Sessions.xlsx'\n",
    "df = pd.read_excel(path, sheet_name = 'Mentorship_Sessions')\n",
    "\n",
    "# Explore the data set\n",
    "print(df)\n",
    "df.dtypes"
   ]
  },
  {
   "cell_type": "markdown",
   "metadata": {},
   "source": [
    "# Task 1. Data Cleaning"
   ]
  },
  {
   "cell_type": "code",
   "execution_count": 40,
   "metadata": {},
   "outputs": [
    {
     "name": "stdout",
     "output_type": "stream",
     "text": [
      "Index(['Mentee_ID', 'Mentor_ID', 'Mentor_Name', 'Mentee_Name',\n",
      "       'Session_Number', 'Session_Duration_Min', 'Job_Info_Completed',\n",
      "       'Session_Date', 'Points_Awarded'],\n",
      "      dtype='object')\n"
     ]
    }
   ],
   "source": [
    "###--- TASK 1: DATA CLEANING ---###\n",
    "# 1. Rename Unnamed Columns\n",
    "df.rename(columns={'Unnamed: 0': 'Mentee_ID'}, inplace=True)\n",
    "\n",
    "# Verify changes\n",
    "print(df.columns)"
   ]
  },
  {
   "cell_type": "code",
   "execution_count": 41,
   "metadata": {},
   "outputs": [
    {
     "name": "stdout",
     "output_type": "stream",
     "text": [
      "Mentee_ID                 1\n",
      "Mentor_ID                 1\n",
      "Mentor_Name               0\n",
      "Mentee_Name               2\n",
      "Session_Number            1\n",
      "Session_Duration_Min      2\n",
      "Job_Info_Completed        1\n",
      "Session_Date              1\n",
      "Points_Awarded          109\n",
      "dtype: int64\n"
     ]
    }
   ],
   "source": [
    "# 2. Handling Missing Values\n",
    "# Check for missing values\n",
    "MissingVals1 = df.isnull().sum()\n",
    "print(MissingVals1)"
   ]
  },
  {
   "cell_type": "code",
   "execution_count": 42,
   "metadata": {},
   "outputs": [
    {
     "name": "stdout",
     "output_type": "stream",
     "text": [
      "Mentee_ID               1\n",
      "Mentor_ID               1\n",
      "Mentor_Name             0\n",
      "Mentee_Name             2\n",
      "Session_Number          0\n",
      "Session_Duration_Min    0\n",
      "Job_Info_Completed      1\n",
      "Session_Date            1\n",
      "Points_Awarded          0\n",
      "dtype: int64\n"
     ]
    }
   ],
   "source": [
    "# Handle the missing values by dropping or filling in rows/columns\n",
    "df.dropna(subset=['Mentee_ID','Mentor_ID', 'Mentee_Name', 'Job_Info_Completed', 'Session_Date'])\n",
    "\n",
    "# Fill NaN values in Session Number and duration with mean\n",
    "Session_Number_Mean = df['Session_Number'].mean()\n",
    "Session_Duration_Mean = df['Session_Duration_Min'].mean()\n",
    "df['Session_Number'] = df['Session_Number'].fillna(Session_Number_Mean)\n",
    "df['Session_Duration_Min'] = df['Session_Duration_Min'].fillna(Session_Duration_Mean)\n",
    "df['Points_Awarded'] = df['Points_Awarded'].fillna(0)  # Replace with starting value of 0\n",
    "\n",
    "# Verify Changes\n",
    "MissingVals2 = df.isnull().sum()\n",
    "print(MissingVals2)"
   ]
  },
  {
   "cell_type": "code",
   "execution_count": 43,
   "metadata": {},
   "outputs": [
    {
     "name": "stdout",
     "output_type": "stream",
     "text": [
      "Total duplicates: 0\n"
     ]
    }
   ],
   "source": [
    "# 3. Handling duplicates\n",
    "duplicates = df.duplicated().sum()\n",
    "print(f\"Total duplicates: {duplicates}\")"
   ]
  },
  {
   "cell_type": "code",
   "execution_count": 51,
   "metadata": {},
   "outputs": [
    {
     "name": "stdout",
     "output_type": "stream",
     "text": [
      "Mentee_ID                       object\n",
      "Mentor_ID                       object\n",
      "Mentor_Name                     object\n",
      "Mentee_Name                     object\n",
      "Session_Number                   int32\n",
      "Session_Duration_Min             int32\n",
      "Job_Info_Completed              object\n",
      "Session_Date            datetime64[ns]\n",
      "Points_Awarded                   int32\n",
      "dtype: object\n",
      "  Mentee_ID Mentor_ID     Mentor_Name  Mentee_Name  Session_Number  \\\n",
      "0      2001      1003     Sarah Clark    Bob Brown               1   \n",
      "1      2002      1003     Emily Davis  Carol White               2   \n",
      "2      2003      1005    James Wilson   Jane Smith               2   \n",
      "3         4      1005  David Thompson          nan               2   \n",
      "4      2001      1004     Emily Davis    Bob Brown               1   \n",
      "\n",
      "   Session_Duration_Min Job_Info_Completed Session_Date  Points_Awarded  \n",
      "0                    40                Yes   2023-01-01               0  \n",
      "1                    30                Yes   2023-01-08               0  \n",
      "2                    40                Yes   2023-01-15               0  \n",
      "3                    50                Yes   2023-01-22               0  \n",
      "4                    30                 No   2023-01-29               0  \n"
     ]
    }
   ],
   "source": [
    "# 4. Correct the data types\n",
    "df['Mentee_Name'] = df['Mentee_Name'].astype(str)\n",
    "df['Mentor_Name'] = df['Mentor_Name'].astype(str)\n",
    "df['Mentee_ID'] = df['Mentee_ID'].astype(str).apply(lambda x: str(x).split('.')[0])\n",
    "df['Mentor_ID'] = df['Mentor_ID'].astype(str).apply(lambda x: str(x).split('.')[0])\n",
    "df['Session_Date'] = pd.to_datetime(df['Session_Date'], format='%Y-%m-%d')\n",
    "df['Session_Number'] = df['Session_Number'].astype(int)\n",
    "df['Session_Duration_Min'] = df['Session_Duration_Min'].astype(int)\n",
    "df['Points_Awarded'] = df['Points_Awarded'].astype(int)\n",
    "\n",
    "\n",
    "# Verify Changes\n",
    "print(df.dtypes)\n",
    "print(df.head())"
   ]
  },
  {
   "cell_type": "code",
   "execution_count": 52,
   "metadata": {},
   "outputs": [],
   "source": [
    "# 5. Standardize the Job_Info_Completed variable\n",
    "df['Job_Info_Completed'] = df['Job_Info_Completed'].replace({'Yes': 'Yes', 'No': 'No'})"
   ]
  },
  {
   "cell_type": "code",
   "execution_count": 53,
   "metadata": {},
   "outputs": [],
   "source": [
    "# Save the cleaned data set\n",
    "df.to_excel('Mentorship_Session_Cleaned.xlsx', index=False)"
   ]
  },
  {
   "cell_type": "markdown",
   "metadata": {},
   "source": [
    "**Task 2: Legacy Point Allocation**\n",
    "\n",
    "**Context:**\n",
    "Every week, you will be required to analyse, calculate, and manually award learners and graduates with points based on a set of point criteria.\n",
    "\n",
    "Assignment:\n",
    "Using your cleaned sample dataset for “Mentorship_Sessions”, allocate points according to the criteria listed below. \n",
    "\n",
    "Mentors earn points as follows:\n",
    "- 250 points for signing up to become a mentor (one-time allocation).\n",
    "- 1000 points for conducting mentorship with 2 different mentees.\n",
    "\n",
    "The mentor receives 500 points per mentorship relationship, with the points being allocated as follows:\n",
    "- 250 points per session.\n",
    "- Must hold two sessions with the same mentee to earn the maximum of 500 points.\n",
    "- Each session must be a minimum of 30 minutes in length.\n",
    "- At least one session must include the completion of job information.\n",
    "- The session must be with the same mentee.\n",
    "\n",
    "Deliverables:\n",
    "- Compile the main rules that needed to be applied for point allocation.\n",
    "- Create the points allocation calculation to award the mentor points. Provide an explanation of the calculations that you applied to award the mentor points.\n",
    "- A brief report (300-500 words) detailing the point allocation results and providing reasons for the results.\n",
    "- Use the provided data and award the points to mentors.\n",
    "- Provide a step-by-step outline of the process you would follow to complete the allocation, ensuring the points are awarded correctly on the system. This should include your approach to testing and verifying the accuracy of the allocations."
   ]
  },
  {
   "cell_type": "code",
   "execution_count": 72,
   "metadata": {},
   "outputs": [
    {
     "data": {
      "text/html": [
       "<div>\n",
       "<style scoped>\n",
       "    .dataframe tbody tr th:only-of-type {\n",
       "        vertical-align: middle;\n",
       "    }\n",
       "\n",
       "    .dataframe tbody tr th {\n",
       "        vertical-align: top;\n",
       "    }\n",
       "\n",
       "    .dataframe thead th {\n",
       "        text-align: right;\n",
       "    }\n",
       "</style>\n",
       "<table border=\"1\" class=\"dataframe\">\n",
       "  <thead>\n",
       "    <tr style=\"text-align: right;\">\n",
       "      <th></th>\n",
       "      <th>Mentee_ID</th>\n",
       "      <th>Mentor_ID</th>\n",
       "      <th>Mentor_Name</th>\n",
       "      <th>Mentee_Name</th>\n",
       "      <th>Session_Number</th>\n",
       "      <th>Session_Duration_Min</th>\n",
       "      <th>Job_Info_Completed</th>\n",
       "      <th>Session_Date</th>\n",
       "      <th>Points_Awarded</th>\n",
       "    </tr>\n",
       "  </thead>\n",
       "  <tbody>\n",
       "    <tr>\n",
       "      <th>0</th>\n",
       "      <td>2001.0</td>\n",
       "      <td>1003.0</td>\n",
       "      <td>Sarah Clark</td>\n",
       "      <td>Bob Brown</td>\n",
       "      <td>1</td>\n",
       "      <td>40</td>\n",
       "      <td>Yes</td>\n",
       "      <td>2023-01-01</td>\n",
       "      <td>0</td>\n",
       "    </tr>\n",
       "    <tr>\n",
       "      <th>1</th>\n",
       "      <td>2002.0</td>\n",
       "      <td>1003.0</td>\n",
       "      <td>Emily Davis</td>\n",
       "      <td>Carol White</td>\n",
       "      <td>2</td>\n",
       "      <td>30</td>\n",
       "      <td>Yes</td>\n",
       "      <td>2023-01-08</td>\n",
       "      <td>0</td>\n",
       "    </tr>\n",
       "    <tr>\n",
       "      <th>2</th>\n",
       "      <td>2003.0</td>\n",
       "      <td>1005.0</td>\n",
       "      <td>James Wilson</td>\n",
       "      <td>Jane Smith</td>\n",
       "      <td>2</td>\n",
       "      <td>40</td>\n",
       "      <td>Yes</td>\n",
       "      <td>2023-01-15</td>\n",
       "      <td>0</td>\n",
       "    </tr>\n",
       "    <tr>\n",
       "      <th>3</th>\n",
       "      <td>4.0</td>\n",
       "      <td>1005.0</td>\n",
       "      <td>David Thompson</td>\n",
       "      <td>NaN</td>\n",
       "      <td>2</td>\n",
       "      <td>50</td>\n",
       "      <td>Yes</td>\n",
       "      <td>2023-01-22</td>\n",
       "      <td>0</td>\n",
       "    </tr>\n",
       "    <tr>\n",
       "      <th>4</th>\n",
       "      <td>2001.0</td>\n",
       "      <td>1004.0</td>\n",
       "      <td>Emily Davis</td>\n",
       "      <td>Bob Brown</td>\n",
       "      <td>1</td>\n",
       "      <td>30</td>\n",
       "      <td>No</td>\n",
       "      <td>2023-01-29</td>\n",
       "      <td>0</td>\n",
       "    </tr>\n",
       "  </tbody>\n",
       "</table>\n",
       "</div>"
      ],
      "text/plain": [
       "   Mentee_ID  Mentor_ID     Mentor_Name  Mentee_Name  Session_Number  \\\n",
       "0     2001.0     1003.0     Sarah Clark    Bob Brown               1   \n",
       "1     2002.0     1003.0     Emily Davis  Carol White               2   \n",
       "2     2003.0     1005.0    James Wilson   Jane Smith               2   \n",
       "3        4.0     1005.0  David Thompson          NaN               2   \n",
       "4     2001.0     1004.0     Emily Davis    Bob Brown               1   \n",
       "\n",
       "   Session_Duration_Min Job_Info_Completed Session_Date  Points_Awarded  \n",
       "0                    40                Yes   2023-01-01               0  \n",
       "1                    30                Yes   2023-01-08               0  \n",
       "2                    40                Yes   2023-01-15               0  \n",
       "3                    50                Yes   2023-01-22               0  \n",
       "4                    30                 No   2023-01-29               0  "
      ]
     },
     "execution_count": 72,
     "metadata": {},
     "output_type": "execute_result"
    }
   ],
   "source": [
    "### ---TASK 2: Legacy Point Allocation--- ###\n",
    "\n",
    "# Load the cleaned data set\n",
    "path = 'C:\\\\Users\\\\ADMIN\\\\MentorshipRewards_Analysis\\\\MentorshipRewards_analysis\\\\MentorshipRewards_analysis\\\\assets\\\\Mentorship_Session_Cleaned.xlsx'\n",
    "df = pd.read_excel(path)\n",
    "df.head()"
   ]
  },
  {
   "cell_type": "code",
   "execution_count": 88,
   "metadata": {},
   "outputs": [
    {
     "name": "stdout",
     "output_type": "stream",
     "text": [
      "Empty DataFrame\n",
      "Columns: [Mentor_ID, Mentee_Name, Job_Info_Completed, Session_Number]\n",
      "Index: []\n"
     ]
    },
    {
     "data": {
      "text/html": [
       "<div>\n",
       "<style scoped>\n",
       "    .dataframe tbody tr th:only-of-type {\n",
       "        vertical-align: middle;\n",
       "    }\n",
       "\n",
       "    .dataframe tbody tr th {\n",
       "        vertical-align: top;\n",
       "    }\n",
       "\n",
       "    .dataframe thead th {\n",
       "        text-align: right;\n",
       "    }\n",
       "</style>\n",
       "<table border=\"1\" class=\"dataframe\">\n",
       "  <thead>\n",
       "    <tr style=\"text-align: right;\">\n",
       "      <th></th>\n",
       "      <th>Mentee_ID</th>\n",
       "      <th>Mentor_ID</th>\n",
       "      <th>Mentor_Name</th>\n",
       "      <th>Mentee_Name</th>\n",
       "      <th>Session_Number</th>\n",
       "      <th>Session_Duration_Min</th>\n",
       "      <th>Job_Info_Completed</th>\n",
       "      <th>Session_Date</th>\n",
       "      <th>Points_Awarded</th>\n",
       "      <th>Mentor_Points</th>\n",
       "    </tr>\n",
       "  </thead>\n",
       "  <tbody>\n",
       "    <tr>\n",
       "      <th>0</th>\n",
       "      <td>2001.0</td>\n",
       "      <td>1003.0</td>\n",
       "      <td>Sarah Clark</td>\n",
       "      <td>Bob Brown</td>\n",
       "      <td>1</td>\n",
       "      <td>40</td>\n",
       "      <td>Yes</td>\n",
       "      <td>2023-01-01</td>\n",
       "      <td>0</td>\n",
       "      <td>1250</td>\n",
       "    </tr>\n",
       "    <tr>\n",
       "      <th>1</th>\n",
       "      <td>2002.0</td>\n",
       "      <td>1003.0</td>\n",
       "      <td>Emily Davis</td>\n",
       "      <td>Carol White</td>\n",
       "      <td>2</td>\n",
       "      <td>30</td>\n",
       "      <td>Yes</td>\n",
       "      <td>2023-01-08</td>\n",
       "      <td>0</td>\n",
       "      <td>1250</td>\n",
       "    </tr>\n",
       "    <tr>\n",
       "      <th>2</th>\n",
       "      <td>2003.0</td>\n",
       "      <td>1005.0</td>\n",
       "      <td>James Wilson</td>\n",
       "      <td>Jane Smith</td>\n",
       "      <td>2</td>\n",
       "      <td>40</td>\n",
       "      <td>Yes</td>\n",
       "      <td>2023-01-15</td>\n",
       "      <td>0</td>\n",
       "      <td>1250</td>\n",
       "    </tr>\n",
       "    <tr>\n",
       "      <th>3</th>\n",
       "      <td>4.0</td>\n",
       "      <td>1005.0</td>\n",
       "      <td>David Thompson</td>\n",
       "      <td>NaN</td>\n",
       "      <td>2</td>\n",
       "      <td>50</td>\n",
       "      <td>Yes</td>\n",
       "      <td>2023-01-22</td>\n",
       "      <td>0</td>\n",
       "      <td>1250</td>\n",
       "    </tr>\n",
       "    <tr>\n",
       "      <th>4</th>\n",
       "      <td>2001.0</td>\n",
       "      <td>1004.0</td>\n",
       "      <td>Emily Davis</td>\n",
       "      <td>Bob Brown</td>\n",
       "      <td>1</td>\n",
       "      <td>30</td>\n",
       "      <td>No</td>\n",
       "      <td>2023-01-29</td>\n",
       "      <td>0</td>\n",
       "      <td>1250</td>\n",
       "    </tr>\n",
       "  </tbody>\n",
       "</table>\n",
       "</div>"
      ],
      "text/plain": [
       "   Mentee_ID  Mentor_ID     Mentor_Name  Mentee_Name  Session_Number  \\\n",
       "0     2001.0     1003.0     Sarah Clark    Bob Brown               1   \n",
       "1     2002.0     1003.0     Emily Davis  Carol White               2   \n",
       "2     2003.0     1005.0    James Wilson   Jane Smith               2   \n",
       "3        4.0     1005.0  David Thompson          NaN               2   \n",
       "4     2001.0     1004.0     Emily Davis    Bob Brown               1   \n",
       "\n",
       "   Session_Duration_Min Job_Info_Completed Session_Date  Points_Awarded  \\\n",
       "0                    40                Yes   2023-01-01               0   \n",
       "1                    30                Yes   2023-01-08               0   \n",
       "2                    40                Yes   2023-01-15               0   \n",
       "3                    50                Yes   2023-01-22               0   \n",
       "4                    30                 No   2023-01-29               0   \n",
       "\n",
       "   Mentor_Points  \n",
       "0           1250  \n",
       "1           1250  \n",
       "2           1250  \n",
       "3           1250  \n",
       "4           1250  "
      ]
     },
     "execution_count": 88,
     "metadata": {},
     "output_type": "execute_result"
    }
   ],
   "source": [
    "# Create new column-Mentor_Points and initialize to 0\n",
    "\n",
    "df['Mentor_Points'] = 0\n",
    "\n",
    "# Prompt: \n",
    "    # 250 points for signing up to become a mentor (one-time allocation).\n",
    "\n",
    "mentors = df['Mentor_ID'].unique()\n",
    "for mentor_id in mentors:\n",
    "    df.loc[df['Mentor_ID'] == mentor_id, 'Mentor_Points'] += 250\n",
    "\n",
    "# Prompt:\n",
    "    # 1000 points for conducting mentorship with more than 2 mentees\n",
    "    \n",
    "# Group Mentees by Mentor_ID and count unique mentees\n",
    "mentee_count = df.groupby('Mentor_ID')['Mentee_Name'].nunique()\n",
    "for mentor_id, mentee_count in mentee_count.items():\n",
    "    if mentee_count >= 2:\n",
    "        df.loc[df['Mentor_ID'] == mentor_id, 'Mentor_Points'] += 1000\n",
    "\n",
    "# Prompt:\n",
    "    # The mentor receives 500 points per mentorship relationship, with the points being allocated as follows:\n",
    "        # 250 points per session.\n",
    "        # 500 points maximum for two sessions with the same mentee\n",
    "        # Each session must be a minimum of 30 minutes in length.\n",
    "        # At least one session must include the completion of job information.\n",
    "        # The session must be with the same mentee.\n",
    "\n",
    "# Filter sessions that are at least 30 minutes long\n",
    "filtered_df = df[df['Session_Duration_Min'] >= 30]\n",
    "\n",
    "# Group by Mentor_ID and Mentee_Name , then check for at least one session with job info completed\n",
    "job_info_completed = filtered_df.groupby(['Mentor_ID', 'Mentee_Name'])['Job_Info_Completed'].apply(lambda x: 'Yes' in x.tolist())\n",
    "\n",
    "# Find Mentors who have at least one session with Job_Info_Completed = 'Yes'\n",
    "mentors_with_job_info_completed = job_info_completed[job_info_completed].reset_index()\n",
    "\n",
    "# count sessions for each qualified mentor and mentee pair\n",
    "session_counts = filtered_df.groupby(['Mentor_ID', 'Mentee_Name'])['Session_Number'].count()\n",
    "\n",
    "# Find Mentors who have  at least 1 session and 2 or more sessions with the same mentee\n",
    "mentors_with_atleast_one_session = session_counts[session_counts <=1].reset_index()\n",
    "\n",
    "# Merge the dataframe for qualified mentors for points reward\n",
    "qualified_mentors = pd.merge(mentors_with_job_info_completed, mentors_with_atleast_one_session, on=['Mentor_ID', 'Mentee_Name'])\n",
    "\n",
    "# Print the qualified mentors\n",
    "print(qualified_mentors)\n",
    "\n",
    "# Awards points based on session counts with mentees, 500 points for qualified mentors\n",
    "for index, row in qualified_mentors.iterrows():\n",
    "    mentor_id = row['Mentor_ID']\n",
    "    mentee_name = row['Mentee_Name']\n",
    "    df.loc[(df['Mentor_ID'] == mentor_id) & (df['Mentee_Name'] == mentee_name), 'Mentor_Points'] += 500\n",
    "df. head()\n",
    "\n",
    "\n",
    "\n"
   ]
  },
  {
   "cell_type": "markdown",
   "metadata": {},
   "source": [
    "**Task 3:  Deriving Reward Dashboard and Insights**\n",
    "\n",
    "**Context:**\n",
    "The Rewards Program team is focused on enhancing user engagement and maximising the effectiveness of their reward offerings. To achieve this, they require a detailed analysis of user behaviour and reward redemption patterns based on the most recent data.\n",
    "\n",
    "Assignment:\n",
    "- Using the cleaned data from the previous tasks analyse and create a reward dashboard and provide insights that could be used to optimise the Rewards Program. Your analysis should help identify key user segments (e.g., new users, top performers, low engagement) and suggest how these insights could inform future reward offerings and engagement strategies.\n",
    "\n",
    "Deliverables:\n",
    "- A visual data insights report that includes at least three actionable recommendations based on your analysis (500-700 words).\n"
   ]
  }
 ],
 "metadata": {
  "kernelspec": {
   "display_name": "Python 3",
   "language": "python",
   "name": "python3"
  },
  "language_info": {
   "codemirror_mode": {
    "name": "ipython",
    "version": 3
   },
   "file_extension": ".py",
   "mimetype": "text/x-python",
   "name": "python",
   "nbconvert_exporter": "python",
   "pygments_lexer": "ipython3",
   "version": "3.12.3"
  }
 },
 "nbformat": 4,
 "nbformat_minor": 2
}
