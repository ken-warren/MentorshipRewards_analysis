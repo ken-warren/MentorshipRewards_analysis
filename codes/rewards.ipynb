{
 "cells": [
  {
   "cell_type": "markdown",
   "metadata": {},
   "source": [
    "# Mentorship Rewards Optimization"
   ]
  },
  {
   "cell_type": "markdown",
   "metadata": {},
   "source": [
    "**Context**\n",
    "The Rewards Program team is preparing for a major evaluation of how effectively the rewards are driving user engagement and satisfaction. They need insights to help optimize reward offerings, identify key segments, and understand the overall impact of the reward types on user behavior. Accurate data analysis is crucial for making data driven decisions on reward offerings and tailoring them to different user segments."
   ]
  },
  {
   "cell_type": "code",
   "execution_count": 64,
   "metadata": {},
   "outputs": [],
   "source": [
    "# Import the required libraries\n",
    "import pandas as pd\n",
    "import numpy as np"
   ]
  },
  {
   "cell_type": "code",
   "execution_count": 99,
   "metadata": {},
   "outputs": [
    {
     "name": "stdout",
     "output_type": "stream",
     "text": [
      "     Unnamed: 0  Mentor_ID     Mentor_Name    Mentee_Name  Session_Number  \\\n",
      "0        2001.0     1003.0     Sarah Clark      Bob Brown             1.0   \n",
      "1        2002.0     1003.0     Emily Davis    Carol White             2.0   \n",
      "2        2003.0     1005.0    James Wilson     Jane Smith             2.0   \n",
      "3           4.0     1005.0  David Thompson            NaN             2.0   \n",
      "4        2001.0     1004.0     Emily Davis      Bob Brown             1.0   \n",
      "..          ...        ...             ...            ...             ...   \n",
      "104      2002.0     1003.0     Michael Lee    Carol White             2.0   \n",
      "105        54.0     1003.0     Michael Lee  Alice Johnson             2.0   \n",
      "106      2003.0     1005.0     Michael Lee     Jane Smith             1.0   \n",
      "107        46.0     1005.0     Michael Lee    Carol White             2.0   \n",
      "108        45.0     1004.0     Michael Lee     Jane Smith             1.0   \n",
      "\n",
      "     Session_Duration_Min Job_Info_Completed Session_Date  Points_Awarded  \n",
      "0                    40.0                Yes   2023-01-01             NaN  \n",
      "1                    30.0                Yes   2023-01-08             NaN  \n",
      "2                    40.0                Yes   2023-01-15             NaN  \n",
      "3                    50.0                Yes   2023-01-22             NaN  \n",
      "4                    30.0                 No   2023-01-29             NaN  \n",
      "..                    ...                ...          ...             ...  \n",
      "104                  20.0                 No   2024-08-04             NaN  \n",
      "105                  30.0                Yes   2024-01-07             NaN  \n",
      "106                  50.0                Yes   2024-05-05             NaN  \n",
      "107                  40.0                Yes   2023-11-12             NaN  \n",
      "108                  30.0                 No   2023-11-05             NaN  \n",
      "\n",
      "[109 rows x 9 columns]\n"
     ]
    },
    {
     "data": {
      "text/plain": [
       "Unnamed: 0              float64\n",
       "Mentor_ID               float64\n",
       "Mentor_Name              object\n",
       "Mentee_Name              object\n",
       "Session_Number          float64\n",
       "Session_Duration_Min    float64\n",
       "Job_Info_Completed       object\n",
       "Session_Date             object\n",
       "Points_Awarded          float64\n",
       "dtype: object"
      ]
     },
     "execution_count": 99,
     "metadata": {},
     "output_type": "execute_result"
    }
   ],
   "source": [
    "# Load the data set\n",
    "path = 'C:\\\\Users\\\\ADMIN\\\\MentorshipRewards_Analysis\\\\MentorshipRewards_analysis\\\\assets\\\\Mentorship_Sessions.xlsx'\n",
    "df = pd.read_excel(path, sheet_name = 'Mentorship_Sessions')\n",
    "\n",
    "# Explore the data set\n",
    "print(df)\n",
    "df.dtypes"
   ]
  },
  {
   "cell_type": "markdown",
   "metadata": {},
   "source": [
    "# Task 1. Data Cleaning"
   ]
  },
  {
   "cell_type": "code",
   "execution_count": 100,
   "metadata": {},
   "outputs": [
    {
     "name": "stdout",
     "output_type": "stream",
     "text": [
      "Index(['Mentee_ID', 'Mentor_ID', 'Mentor_Name', 'Mentee_Name',\n",
      "       'Session_Number', 'Session_Duration_Min', 'Job_Info_Completed',\n",
      "       'Session_Date', 'Points_Awarded'],\n",
      "      dtype='object')\n"
     ]
    }
   ],
   "source": [
    "###--- TASK 1: DATA CLEANING ---###\n",
    "# 1. Rename Unnamed Columns\n",
    "df.rename(columns={'Unnamed: 0': 'Mentee_ID'}, inplace=True)\n",
    "\n",
    "# Verify changes\n",
    "print(df.columns)"
   ]
  },
  {
   "cell_type": "code",
   "execution_count": 101,
   "metadata": {},
   "outputs": [
    {
     "name": "stdout",
     "output_type": "stream",
     "text": [
      "Mentee_ID                 1\n",
      "Mentor_ID                 1\n",
      "Mentor_Name               0\n",
      "Mentee_Name               2\n",
      "Session_Number            1\n",
      "Session_Duration_Min      2\n",
      "Job_Info_Completed        1\n",
      "Session_Date              1\n",
      "Points_Awarded          109\n",
      "dtype: int64\n"
     ]
    }
   ],
   "source": [
    "# 2. Handling Missing Values\n",
    "# Check for missing values\n",
    "MissingVals1 = df.isnull().sum()\n",
    "print(MissingVals1)\n"
   ]
  },
  {
   "cell_type": "code",
   "execution_count": 102,
   "metadata": {},
   "outputs": [
    {
     "name": "stdout",
     "output_type": "stream",
     "text": [
      "Mentee_ID               1\n",
      "Mentor_ID               1\n",
      "Mentor_Name             0\n",
      "Mentee_Name             2\n",
      "Session_Number          0\n",
      "Session_Duration_Min    0\n",
      "Job_Info_Completed      1\n",
      "Session_Date            1\n",
      "Points_Awarded          0\n",
      "dtype: int64\n"
     ]
    }
   ],
   "source": [
    "# Handle the missing values by dropping or filling in rows/columns\n",
    "df.dropna(subset=['Mentee_ID','Mentor_ID', 'Mentee_Name', 'Job_Info_Completed', 'Session_Date'])\n",
    "\n",
    "# Fill NaN values in Session Number and duration with mean\n",
    "Session_Number_Mean = df['Session_Number'].mean()\n",
    "Session_Duration_Mean = df['Session_Duration_Min'].mean()\n",
    "df['Session_Number'] = df['Session_Number'].fillna(Session_Number_Mean)\n",
    "df['Session_Duration_Min'] = df['Session_Duration_Min'].fillna(Session_Duration_Mean)\n",
    "df['Points_Awarded'] = df['Points_Awarded'].fillna(0)  # Replace with starting value of 0\n",
    "\n",
    "# Verify Changes\n",
    "MissingVals2 = df.isnull().sum()\n",
    "print(MissingVals2)"
   ]
  },
  {
   "cell_type": "code",
   "execution_count": 91,
   "metadata": {},
   "outputs": [
    {
     "name": "stdout",
     "output_type": "stream",
     "text": [
      "Total duplicates: 0\n"
     ]
    }
   ],
   "source": [
    "# 3. Handling duplicates\n",
    "duplicates = df.duplicated().sum()\n",
    "print(f\"Total duplicates: {duplicates}\")"
   ]
  },
  {
   "cell_type": "code",
   "execution_count": 106,
   "metadata": {},
   "outputs": [
    {
     "name": "stdout",
     "output_type": "stream",
     "text": [
      "Mentee_ID                       object\n",
      "Mentor_ID                       object\n",
      "Mentor_Name                     object\n",
      "Mentee_Name                     object\n",
      "Session_Number                   int32\n",
      "Session_Duration_Min             int32\n",
      "Job_Info_Completed              object\n",
      "Session_Date            datetime64[ns]\n",
      "Points_Awarded                   int32\n",
      "dtype: object\n",
      "  Mentee_ID Mentor_ID     Mentor_Name  Mentee_Name  Session_Number  \\\n",
      "0      2001      1003     Sarah Clark    Bob Brown               1   \n",
      "1      2002      1003     Emily Davis  Carol White               2   \n",
      "2      2003      1005    James Wilson   Jane Smith               2   \n",
      "3         4      1005  David Thompson          nan               2   \n",
      "4      2001      1004     Emily Davis    Bob Brown               1   \n",
      "\n",
      "   Session_Duration_Min Job_Info_Completed Session_Date  Points_Awarded  \n",
      "0                    40                Yes   2023-01-01               0  \n",
      "1                    30                Yes   2023-01-08               0  \n",
      "2                    40                Yes   2023-01-15               0  \n",
      "3                    50                Yes   2023-01-22               0  \n",
      "4                    30                 No   2023-01-29               0  \n"
     ]
    }
   ],
   "source": [
    "# 4. Correct the data types\n",
    "df['Mentee_Name'] = df['Mentee_Name'].astype(str)\n",
    "df['Mentor_Name'] = df['Mentor_Name'].astype(str)\n",
    "df['Mentee_ID'] = df['Mentee_ID'].astype(str).apply(lambda x: str(x).split('.')[0])\n",
    "df['Mentor_ID'] = df['Mentor_ID'].astype(str).apply(lambda x: str(x).split('.')[0])\n",
    "df['Session_Date'] = pd.to_datetime(df['Session_Date'], format='%Y-%m-%d')\n",
    "df['Session_Number'] = df['Session_Number'].astype(int)\n",
    "df['Session_Duration_Min'] = df['Session_Duration_Min'].astype(int)\n",
    "df['Points_Awarded'] = df['Points_Awarded'].astype(int)\n",
    "\n",
    "\n",
    "# Verify Changes\n",
    "print(df.dtypes)\n",
    "print(df.head())"
   ]
  },
  {
   "cell_type": "code",
   "execution_count": 113,
   "metadata": {},
   "outputs": [
    {
     "data": {
      "text/plain": [
       "0      Yes\n",
       "1      Yes\n",
       "2      Yes\n",
       "3      Yes\n",
       "4       No\n",
       "      ... \n",
       "104     No\n",
       "105    Yes\n",
       "106    Yes\n",
       "107    Yes\n",
       "108     No\n",
       "Name: Job_Info_Completed, Length: 109, dtype: object"
      ]
     },
     "execution_count": 113,
     "metadata": {},
     "output_type": "execute_result"
    }
   ],
   "source": [
    "# 5. Standardize the Job_Info_Completed variable\n",
    "df['Job_Info_Completed'] = df['Job_Info_Completed'].replace({'Yes': 'Yes', 'No': 'No'})\n"
   ]
  },
  {
   "cell_type": "code",
   "execution_count": 114,
   "metadata": {},
   "outputs": [],
   "source": [
    "# Save the cleaned data set\n",
    "df.to_excel('Mentorship_Session_Cleaned.xlsx', index=False)"
   ]
  }
 ],
 "metadata": {
  "kernelspec": {
   "display_name": "Python 3",
   "language": "python",
   "name": "python3"
  },
  "language_info": {
   "codemirror_mode": {
    "name": "ipython",
    "version": 3
   },
   "file_extension": ".py",
   "mimetype": "text/x-python",
   "name": "python",
   "nbconvert_exporter": "python",
   "pygments_lexer": "ipython3",
   "version": "3.12.3"
  }
 },
 "nbformat": 4,
 "nbformat_minor": 2
}
